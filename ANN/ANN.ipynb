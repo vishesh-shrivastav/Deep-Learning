{
 "cells": [
  {
   "cell_type": "code",
   "execution_count": 1,
   "metadata": {
    "collapsed": true
   },
   "outputs": [],
   "source": [
    "import numpy as np\n",
    "import matplotlib.pyplot as plt\n",
    "import pandas as pd"
   ]
  },
  {
   "cell_type": "markdown",
   "metadata": {},
   "source": [
    "Part 1 - Data preprocessing"
   ]
  },
  {
   "cell_type": "code",
   "execution_count": 2,
   "metadata": {
    "collapsed": true
   },
   "outputs": [],
   "source": [
    "# Importing the dataset\n",
    "dataset = pd.read_csv(r'Churn_Modelling.csv')"
   ]
  },
  {
   "cell_type": "code",
   "execution_count": 3,
   "metadata": {},
   "outputs": [
    {
     "data": {
      "text/plain": [
       "(10000, 14)"
      ]
     },
     "execution_count": 3,
     "metadata": {},
     "output_type": "execute_result"
    }
   ],
   "source": [
    "dataset.shape"
   ]
  },
  {
   "cell_type": "code",
   "execution_count": 4,
   "metadata": {
    "collapsed": true
   },
   "outputs": [],
   "source": [
    "# Matrix of features\n",
    "X = dataset.iloc[:, 3:13].values\n",
    "# Target column\n",
    "y = dataset.iloc[:, 13].values"
   ]
  },
  {
   "cell_type": "code",
   "execution_count": 5,
   "metadata": {},
   "outputs": [
    {
     "data": {
      "text/plain": [
       "(10000, 10)"
      ]
     },
     "execution_count": 5,
     "metadata": {},
     "output_type": "execute_result"
    }
   ],
   "source": [
    "X.shape"
   ]
  },
  {
   "cell_type": "code",
   "execution_count": 6,
   "metadata": {},
   "outputs": [
    {
     "data": {
      "text/plain": [
       "array([[619, 'France', 'Female', ..., 1, 1, 101348.88],\n",
       "       [608, 'Spain', 'Female', ..., 0, 1, 112542.58],\n",
       "       [502, 'France', 'Female', ..., 1, 0, 113931.57],\n",
       "       ...,\n",
       "       [709, 'France', 'Female', ..., 0, 1, 42085.58],\n",
       "       [772, 'Germany', 'Male', ..., 1, 0, 92888.52],\n",
       "       [792, 'France', 'Female', ..., 1, 0, 38190.78]], dtype=object)"
      ]
     },
     "execution_count": 6,
     "metadata": {},
     "output_type": "execute_result"
    }
   ],
   "source": [
    "X"
   ]
  },
  {
   "cell_type": "code",
   "execution_count": 7,
   "metadata": {},
   "outputs": [
    {
     "data": {
      "text/plain": [
       "(10000,)"
      ]
     },
     "execution_count": 7,
     "metadata": {},
     "output_type": "execute_result"
    }
   ],
   "source": [
    "y.shape"
   ]
  },
  {
   "cell_type": "code",
   "execution_count": 8,
   "metadata": {
    "collapsed": true
   },
   "outputs": [],
   "source": [
    "# Encoding categorical data\n",
    "# Categorical columns - \"Country\" and \"Gender\"\n",
    "from sklearn.preprocessing import LabelEncoder, OneHotEncoder\n",
    "\n",
    "# labelencoder for \"Country\"\n",
    "labelencoder_X_1 = LabelEncoder()\n",
    "X[:, 1] = labelencoder_X_1.fit_transform(X[:, 1])"
   ]
  },
  {
   "cell_type": "code",
   "execution_count": 9,
   "metadata": {},
   "outputs": [
    {
     "data": {
      "text/plain": [
       "array([[619, 0, 'Female', ..., 1, 1, 101348.88],\n",
       "       [608, 2, 'Female', ..., 0, 1, 112542.58],\n",
       "       [502, 0, 'Female', ..., 1, 0, 113931.57],\n",
       "       ...,\n",
       "       [709, 0, 'Female', ..., 0, 1, 42085.58],\n",
       "       [772, 1, 'Male', ..., 1, 0, 92888.52],\n",
       "       [792, 0, 'Female', ..., 1, 0, 38190.78]], dtype=object)"
      ]
     },
     "execution_count": 9,
     "metadata": {},
     "output_type": "execute_result"
    }
   ],
   "source": [
    "X"
   ]
  },
  {
   "cell_type": "code",
   "execution_count": 10,
   "metadata": {
    "collapsed": true
   },
   "outputs": [],
   "source": [
    "# labelencoder for \"Gender\"\n",
    "labelencoder_X_2 = LabelEncoder()\n",
    "X[:, 2] = labelencoder_X_1.fit_transform(X[:, 2])"
   ]
  },
  {
   "cell_type": "code",
   "execution_count": 11,
   "metadata": {},
   "outputs": [
    {
     "data": {
      "text/plain": [
       "array([[619, 0, 0, ..., 1, 1, 101348.88],\n",
       "       [608, 2, 0, ..., 0, 1, 112542.58],\n",
       "       [502, 0, 0, ..., 1, 0, 113931.57],\n",
       "       ...,\n",
       "       [709, 0, 0, ..., 0, 1, 42085.58],\n",
       "       [772, 1, 1, ..., 1, 0, 92888.52],\n",
       "       [792, 0, 0, ..., 1, 0, 38190.78]], dtype=object)"
      ]
     },
     "execution_count": 11,
     "metadata": {},
     "output_type": "execute_result"
    }
   ],
   "source": [
    "X"
   ]
  },
  {
   "cell_type": "code",
   "execution_count": 12,
   "metadata": {
    "collapsed": true
   },
   "outputs": [],
   "source": [
    "# One hot encoding for \"Country\" since this column is not ordinal\n",
    "onehotencoder = OneHotEncoder(categorical_features = [1])\n",
    "X = onehotencoder.fit_transform(X).toarray()"
   ]
  },
  {
   "cell_type": "code",
   "execution_count": 13,
   "metadata": {},
   "outputs": [
    {
     "data": {
      "text/plain": [
       "array([[1.0000000e+00, 0.0000000e+00, 0.0000000e+00, ..., 1.0000000e+00,\n",
       "        1.0000000e+00, 1.0134888e+05],\n",
       "       [0.0000000e+00, 0.0000000e+00, 1.0000000e+00, ..., 0.0000000e+00,\n",
       "        1.0000000e+00, 1.1254258e+05],\n",
       "       [1.0000000e+00, 0.0000000e+00, 0.0000000e+00, ..., 1.0000000e+00,\n",
       "        0.0000000e+00, 1.1393157e+05],\n",
       "       ...,\n",
       "       [1.0000000e+00, 0.0000000e+00, 0.0000000e+00, ..., 0.0000000e+00,\n",
       "        1.0000000e+00, 4.2085580e+04],\n",
       "       [0.0000000e+00, 1.0000000e+00, 0.0000000e+00, ..., 1.0000000e+00,\n",
       "        0.0000000e+00, 9.2888520e+04],\n",
       "       [1.0000000e+00, 0.0000000e+00, 0.0000000e+00, ..., 1.0000000e+00,\n",
       "        0.0000000e+00, 3.8190780e+04]])"
      ]
     },
     "execution_count": 13,
     "metadata": {},
     "output_type": "execute_result"
    }
   ],
   "source": [
    "X"
   ]
  },
  {
   "cell_type": "code",
   "execution_count": 14,
   "metadata": {
    "collapsed": true
   },
   "outputs": [],
   "source": [
    "# Remove 1st column - dummy variable trap\n",
    "X = X[:, 1:]"
   ]
  },
  {
   "cell_type": "code",
   "execution_count": 15,
   "metadata": {},
   "outputs": [
    {
     "data": {
      "text/plain": [
       "array([[0.0000000e+00, 0.0000000e+00, 6.1900000e+02, ..., 1.0000000e+00,\n",
       "        1.0000000e+00, 1.0134888e+05],\n",
       "       [0.0000000e+00, 1.0000000e+00, 6.0800000e+02, ..., 0.0000000e+00,\n",
       "        1.0000000e+00, 1.1254258e+05],\n",
       "       [0.0000000e+00, 0.0000000e+00, 5.0200000e+02, ..., 1.0000000e+00,\n",
       "        0.0000000e+00, 1.1393157e+05],\n",
       "       ...,\n",
       "       [0.0000000e+00, 0.0000000e+00, 7.0900000e+02, ..., 0.0000000e+00,\n",
       "        1.0000000e+00, 4.2085580e+04],\n",
       "       [1.0000000e+00, 0.0000000e+00, 7.7200000e+02, ..., 1.0000000e+00,\n",
       "        0.0000000e+00, 9.2888520e+04],\n",
       "       [0.0000000e+00, 0.0000000e+00, 7.9200000e+02, ..., 1.0000000e+00,\n",
       "        0.0000000e+00, 3.8190780e+04]])"
      ]
     },
     "execution_count": 15,
     "metadata": {},
     "output_type": "execute_result"
    }
   ],
   "source": [
    "X"
   ]
  },
  {
   "cell_type": "code",
   "execution_count": 16,
   "metadata": {
    "collapsed": true
   },
   "outputs": [],
   "source": [
    "# Splitting the dataset into the Training set and Test set\n",
    "from sklearn.model_selection import train_test_split\n",
    "X_train, X_test, y_train, y_test = train_test_split(X, y, test_size = 0.2, random_state = 0)"
   ]
  },
  {
   "cell_type": "code",
   "execution_count": 17,
   "metadata": {
    "collapsed": true
   },
   "outputs": [],
   "source": [
    "# Feature Scaling\n",
    "from sklearn.preprocessing import StandardScaler\n",
    "sc = StandardScaler()\n",
    "X_train = sc.fit_transform(X_train)\n",
    "X_test = sc.transform(X_test)"
   ]
  },
  {
   "cell_type": "code",
   "execution_count": 18,
   "metadata": {},
   "outputs": [
    {
     "data": {
      "text/plain": [
       "array([[-0.5698444 ,  1.74309049,  0.16958176, ...,  0.64259497,\n",
       "        -1.03227043,  1.10643166],\n",
       "       [ 1.75486502, -0.57369368, -2.30455945, ...,  0.64259497,\n",
       "         0.9687384 , -0.74866447],\n",
       "       [-0.5698444 , -0.57369368, -1.19119591, ...,  0.64259497,\n",
       "        -1.03227043,  1.48533467],\n",
       "       ...,\n",
       "       [-0.5698444 , -0.57369368,  0.9015152 , ...,  0.64259497,\n",
       "        -1.03227043,  1.41231994],\n",
       "       [-0.5698444 ,  1.74309049, -0.62420521, ...,  0.64259497,\n",
       "         0.9687384 ,  0.84432121],\n",
       "       [ 1.75486502, -0.57369368, -0.28401079, ...,  0.64259497,\n",
       "        -1.03227043,  0.32472465]])"
      ]
     },
     "execution_count": 18,
     "metadata": {},
     "output_type": "execute_result"
    }
   ],
   "source": [
    "X_train"
   ]
  },
  {
   "cell_type": "markdown",
   "metadata": {},
   "source": [
    "Part 2 - Build ANN"
   ]
  },
  {
   "cell_type": "code",
   "execution_count": 19,
   "metadata": {},
   "outputs": [
    {
     "name": "stderr",
     "output_type": "stream",
     "text": [
      "C:\\Users\\Shrivatav\\Anaconda3\\lib\\site-packages\\h5py\\__init__.py:72: UserWarning: h5py is running against HDF5 1.10.2 when it was built against 1.10.3, this may cause problems\n",
      "  '{0}.{1}.{2}'.format(*version.hdf5_built_version_tuple)\n",
      "Using TensorFlow backend.\n"
     ]
    }
   ],
   "source": [
    "import keras"
   ]
  },
  {
   "cell_type": "code",
   "execution_count": 20,
   "metadata": {
    "collapsed": true
   },
   "outputs": [],
   "source": [
    "from keras.models import Sequential\n",
    "from keras.layers import Dense"
   ]
  },
  {
   "cell_type": "code",
   "execution_count": 21,
   "metadata": {
    "collapsed": true
   },
   "outputs": [],
   "source": [
    "# Initialisng the ANN\n",
    "# We define our ANN as a sequence of layers\n",
    "classifier = Sequential()"
   ]
  },
  {
   "cell_type": "code",
   "execution_count": 22,
   "metadata": {},
   "outputs": [
    {
     "name": "stderr",
     "output_type": "stream",
     "text": [
      "C:\\Users\\Shrivatav\\Anaconda3\\lib\\site-packages\\ipykernel_launcher.py:2: UserWarning: Update your `Dense` call to the Keras 2 API: `Dense(activation=\"relu\", input_dim=11, units=6, kernel_initializer=\"uniform\")`\n",
      "  \n"
     ]
    }
   ],
   "source": [
    "# Adding input layer and first hidden layer\n",
    "classifier.add(Dense(output_dim = 6, init = \"uniform\", activation = \"relu\", input_dim = 11))"
   ]
  },
  {
   "cell_type": "code",
   "execution_count": 23,
   "metadata": {},
   "outputs": [
    {
     "name": "stderr",
     "output_type": "stream",
     "text": [
      "C:\\Users\\Shrivatav\\Anaconda3\\lib\\site-packages\\ipykernel_launcher.py:2: UserWarning: Update your `Dense` call to the Keras 2 API: `Dense(activation=\"relu\", units=6, kernel_initializer=\"uniform\")`\n",
      "  \n"
     ]
    }
   ],
   "source": [
    "# Add second hidden layer\n",
    "classifier.add(Dense(output_dim = 6, init = \"uniform\", activation = \"relu\"))"
   ]
  },
  {
   "cell_type": "code",
   "execution_count": 24,
   "metadata": {},
   "outputs": [
    {
     "name": "stderr",
     "output_type": "stream",
     "text": [
      "C:\\Users\\Shrivatav\\Anaconda3\\lib\\site-packages\\ipykernel_launcher.py:2: UserWarning: Update your `Dense` call to the Keras 2 API: `Dense(activation=\"sigmoid\", units=1, kernel_initializer=\"uniform\")`\n",
      "  \n"
     ]
    }
   ],
   "source": [
    "# Add output layer\n",
    "classifier.add(Dense(output_dim = 1, init = \"uniform\", activation = \"sigmoid\"))"
   ]
  },
  {
   "cell_type": "code",
   "execution_count": 25,
   "metadata": {
    "collapsed": true
   },
   "outputs": [],
   "source": [
    "# Compile the ANN\n",
    "classifier.compile(optimizer = \"adam\", loss = \"binary_crossentropy\", metrics = [\"accuracy\"])"
   ]
  },
  {
   "cell_type": "code",
   "execution_count": 26,
   "metadata": {},
   "outputs": [
    {
     "name": "stderr",
     "output_type": "stream",
     "text": [
      "C:\\Users\\Shrivatav\\Anaconda3\\lib\\site-packages\\ipykernel_launcher.py:2: UserWarning: The `nb_epoch` argument in `fit` has been renamed `epochs`.\n",
      "  \n"
     ]
    },
    {
     "name": "stdout",
     "output_type": "stream",
     "text": [
      "Epoch 1/100\n",
      "8000/8000 [==============================] - 1s 129us/step - loss: 0.4814 - acc: 0.7957\n",
      "Epoch 2/100\n",
      "8000/8000 [==============================] - 1s 95us/step - loss: 0.4264 - acc: 0.7960\n",
      "Epoch 3/100\n",
      "8000/8000 [==============================] - 1s 96us/step - loss: 0.4211 - acc: 0.8009: 0s - loss: 0.4372\n",
      "Epoch 4/100\n",
      "8000/8000 [==============================] - 1s 98us/step - loss: 0.4180 - acc: 0.8237\n",
      "Epoch 5/100\n",
      "8000/8000 [==============================] - 1s 120us/step - loss: 0.4156 - acc: 0.8275\n",
      "Epoch 6/100\n",
      "8000/8000 [==============================] - 1s 121us/step - loss: 0.4141 - acc: 0.8294\n",
      "Epoch 7/100\n",
      "8000/8000 [==============================] - 1s 124us/step - loss: 0.4124 - acc: 0.8304\n",
      "Epoch 8/100\n",
      "8000/8000 [==============================] - 1s 102us/step - loss: 0.4114 - acc: 0.8332\n",
      "Epoch 9/100\n",
      "8000/8000 [==============================] - 1s 101us/step - loss: 0.4102 - acc: 0.8326\n",
      "Epoch 10/100\n",
      "8000/8000 [==============================] - 1s 100us/step - loss: 0.4092 - acc: 0.8336\n",
      "Epoch 11/100\n",
      "8000/8000 [==============================] - 1s 97us/step - loss: 0.4083 - acc: 0.8336\n",
      "Epoch 12/100\n",
      "8000/8000 [==============================] - 1s 94us/step - loss: 0.4075 - acc: 0.8347\n",
      "Epoch 13/100\n",
      "8000/8000 [==============================] - 1s 116us/step - loss: 0.4068 - acc: 0.8337\n",
      "Epoch 14/100\n",
      "8000/8000 [==============================] - 1s 128us/step - loss: 0.4065 - acc: 0.8337\n",
      "Epoch 15/100\n",
      "8000/8000 [==============================] - 1s 101us/step - loss: 0.4059 - acc: 0.8347\n",
      "Epoch 16/100\n",
      "8000/8000 [==============================] - 1s 111us/step - loss: 0.4052 - acc: 0.8346\n",
      "Epoch 17/100\n",
      "8000/8000 [==============================] - 1s 98us/step - loss: 0.4052 - acc: 0.8341\n",
      "Epoch 18/100\n",
      "8000/8000 [==============================] - 1s 111us/step - loss: 0.4047 - acc: 0.8344\n",
      "Epoch 19/100\n",
      "8000/8000 [==============================] - 1s 93us/step - loss: 0.4045 - acc: 0.8354\n",
      "Epoch 20/100\n",
      "8000/8000 [==============================] - 1s 97us/step - loss: 0.4044 - acc: 0.8360\n",
      "Epoch 21/100\n",
      "8000/8000 [==============================] - 1s 98us/step - loss: 0.4034 - acc: 0.8334\n",
      "Epoch 22/100\n",
      "8000/8000 [==============================] - 1s 100us/step - loss: 0.4036 - acc: 0.8346\n",
      "Epoch 23/100\n",
      "8000/8000 [==============================] - 1s 97us/step - loss: 0.4034 - acc: 0.8352\n",
      "Epoch 24/100\n",
      "8000/8000 [==============================] - 1s 96us/step - loss: 0.4031 - acc: 0.8339\n",
      "Epoch 25/100\n",
      "8000/8000 [==============================] - 1s 106us/step - loss: 0.4028 - acc: 0.8359\n",
      "Epoch 26/100\n",
      "8000/8000 [==============================] - 1s 98us/step - loss: 0.4026 - acc: 0.8347\n",
      "Epoch 27/100\n",
      "8000/8000 [==============================] - 1s 107us/step - loss: 0.4027 - acc: 0.8354\n",
      "Epoch 28/100\n",
      "8000/8000 [==============================] - 1s 96us/step - loss: 0.4027 - acc: 0.8357\n",
      "Epoch 29/100\n",
      "8000/8000 [==============================] - 1s 114us/step - loss: 0.4022 - acc: 0.8349\n",
      "Epoch 30/100\n",
      "8000/8000 [==============================] - 1s 100us/step - loss: 0.4021 - acc: 0.8360\n",
      "Epoch 31/100\n",
      "8000/8000 [==============================] - 1s 110us/step - loss: 0.4014 - acc: 0.8359\n",
      "Epoch 32/100\n",
      "8000/8000 [==============================] - 1s 133us/step - loss: 0.4027 - acc: 0.8350\n",
      "Epoch 33/100\n",
      "8000/8000 [==============================] - 1s 137us/step - loss: 0.4019 - acc: 0.8350\n",
      "Epoch 34/100\n",
      "8000/8000 [==============================] - 1s 120us/step - loss: 0.4015 - acc: 0.8359\n",
      "Epoch 35/100\n",
      "8000/8000 [==============================] - 1s 117us/step - loss: 0.4014 - acc: 0.8355\n",
      "Epoch 36/100\n",
      "8000/8000 [==============================] - 1s 105us/step - loss: 0.4018 - acc: 0.8339\n",
      "Epoch 37/100\n",
      "8000/8000 [==============================] - 1s 98us/step - loss: 0.4015 - acc: 0.8344\n",
      "Epoch 38/100\n",
      "8000/8000 [==============================] - 1s 95us/step - loss: 0.4017 - acc: 0.8345\n",
      "Epoch 39/100\n",
      "8000/8000 [==============================] - 1s 98us/step - loss: 0.4014 - acc: 0.8362\n",
      "Epoch 40/100\n",
      "8000/8000 [==============================] - 1s 97us/step - loss: 0.4010 - acc: 0.8330\n",
      "Epoch 41/100\n",
      "8000/8000 [==============================] - 1s 97us/step - loss: 0.4012 - acc: 0.8352\n",
      "Epoch 42/100\n",
      "8000/8000 [==============================] - 1s 98us/step - loss: 0.4012 - acc: 0.8364\n",
      "Epoch 43/100\n",
      "8000/8000 [==============================] - 1s 98us/step - loss: 0.4010 - acc: 0.8357\n",
      "Epoch 44/100\n",
      "8000/8000 [==============================] - 1s 100us/step - loss: 0.4010 - acc: 0.8352\n",
      "Epoch 45/100\n",
      "8000/8000 [==============================] - 1s 99us/step - loss: 0.4007 - acc: 0.8350\n",
      "Epoch 46/100\n",
      "8000/8000 [==============================] - 1s 100us/step - loss: 0.4001 - acc: 0.8357\n",
      "Epoch 47/100\n",
      "8000/8000 [==============================] - 1s 98us/step - loss: 0.4014 - acc: 0.8351\n",
      "Epoch 48/100\n",
      "8000/8000 [==============================] - 1s 100us/step - loss: 0.4010 - acc: 0.8344\n",
      "Epoch 49/100\n",
      "8000/8000 [==============================] - 1s 103us/step - loss: 0.4009 - acc: 0.8359\n",
      "Epoch 50/100\n",
      "8000/8000 [==============================] - 1s 101us/step - loss: 0.4013 - acc: 0.8347\n",
      "Epoch 51/100\n",
      "8000/8000 [==============================] - 1s 111us/step - loss: 0.4012 - acc: 0.8340\n",
      "Epoch 52/100\n",
      "8000/8000 [==============================] - 1s 120us/step - loss: 0.4005 - acc: 0.8342\n",
      "Epoch 53/100\n",
      "8000/8000 [==============================] - 1s 104us/step - loss: 0.4008 - acc: 0.8355\n",
      "Epoch 54/100\n",
      "8000/8000 [==============================] - 1s 108us/step - loss: 0.4006 - acc: 0.8341\n",
      "Epoch 55/100\n",
      "8000/8000 [==============================] - 1s 95us/step - loss: 0.4011 - acc: 0.8350\n",
      "Epoch 56/100\n",
      "8000/8000 [==============================] - 1s 97us/step - loss: 0.4007 - acc: 0.8359\n",
      "Epoch 57/100\n",
      "8000/8000 [==============================] - 1s 94us/step - loss: 0.4003 - acc: 0.8369\n",
      "Epoch 58/100\n",
      "8000/8000 [==============================] - 1s 94us/step - loss: 0.4003 - acc: 0.8349\n",
      "Epoch 59/100\n",
      "8000/8000 [==============================] - 1s 98us/step - loss: 0.4005 - acc: 0.8347\n",
      "Epoch 60/100\n",
      "8000/8000 [==============================] - 1s 96us/step - loss: 0.4007 - acc: 0.8339\n",
      "Epoch 61/100\n",
      "8000/8000 [==============================] - 1s 94us/step - loss: 0.4003 - acc: 0.8341\n",
      "Epoch 62/100\n",
      "8000/8000 [==============================] - 1s 96us/step - loss: 0.4001 - acc: 0.8349\n",
      "Epoch 63/100\n",
      "8000/8000 [==============================] - 1s 97us/step - loss: 0.4003 - acc: 0.8349\n",
      "Epoch 64/100\n",
      "8000/8000 [==============================] - 1s 97us/step - loss: 0.4004 - acc: 0.8339\n",
      "Epoch 65/100\n",
      "8000/8000 [==============================] - 1s 108us/step - loss: 0.3998 - acc: 0.8354\n",
      "Epoch 66/100\n",
      "8000/8000 [==============================] - 1s 111us/step - loss: 0.4000 - acc: 0.8337\n",
      "Epoch 67/100\n",
      "8000/8000 [==============================] - 1s 116us/step - loss: 0.3999 - acc: 0.8362\n",
      "Epoch 68/100\n",
      "8000/8000 [==============================] - 1s 106us/step - loss: 0.3998 - acc: 0.8350\n",
      "Epoch 69/100\n",
      "8000/8000 [==============================] - 1s 112us/step - loss: 0.3992 - acc: 0.8354\n",
      "Epoch 70/100\n",
      "8000/8000 [==============================] - 1s 126us/step - loss: 0.3994 - acc: 0.8349\n",
      "Epoch 71/100\n",
      "8000/8000 [==============================] - 1s 139us/step - loss: 0.3983 - acc: 0.8357\n",
      "Epoch 72/100\n",
      "8000/8000 [==============================] - 1s 118us/step - loss: 0.3985 - acc: 0.8354\n",
      "Epoch 73/100\n",
      "8000/8000 [==============================] - 1s 116us/step - loss: 0.3971 - acc: 0.8347\n",
      "Epoch 74/100\n",
      "8000/8000 [==============================] - 1s 106us/step - loss: 0.3983 - acc: 0.8350\n",
      "Epoch 75/100\n",
      "8000/8000 [==============================] - 1s 100us/step - loss: 0.3974 - acc: 0.8355\n",
      "Epoch 76/100\n",
      "8000/8000 [==============================] - 1s 109us/step - loss: 0.3976 - acc: 0.8355\n",
      "Epoch 77/100\n",
      "8000/8000 [==============================] - 1s 115us/step - loss: 0.3971 - acc: 0.8360\n",
      "Epoch 78/100\n",
      "8000/8000 [==============================] - 1s 112us/step - loss: 0.3969 - acc: 0.8374\n",
      "Epoch 79/100\n",
      "8000/8000 [==============================] - 1s 104us/step - loss: 0.3968 - acc: 0.8357\n",
      "Epoch 80/100\n",
      "8000/8000 [==============================] - 1s 104us/step - loss: 0.3967 - acc: 0.8367\n",
      "Epoch 81/100\n",
      "8000/8000 [==============================] - 1s 102us/step - loss: 0.3959 - acc: 0.8364\n",
      "Epoch 82/100\n"
     ]
    },
    {
     "name": "stdout",
     "output_type": "stream",
     "text": [
      "8000/8000 [==============================] - 1s 94us/step - loss: 0.3962 - acc: 0.8364\n",
      "Epoch 83/100\n",
      "8000/8000 [==============================] - 1s 93us/step - loss: 0.3961 - acc: 0.8365\n",
      "Epoch 84/100\n",
      "8000/8000 [==============================] - 1s 92us/step - loss: 0.3961 - acc: 0.8366\n",
      "Epoch 85/100\n",
      "8000/8000 [==============================] - 1s 92us/step - loss: 0.3951 - acc: 0.8382\n",
      "Epoch 86/100\n",
      "8000/8000 [==============================] - 1s 92us/step - loss: 0.3955 - acc: 0.8371\n",
      "Epoch 87/100\n",
      "8000/8000 [==============================] - 1s 93us/step - loss: 0.3954 - acc: 0.8352\n",
      "Epoch 88/100\n",
      "8000/8000 [==============================] - 1s 93us/step - loss: 0.3955 - acc: 0.8354\n",
      "Epoch 89/100\n",
      "8000/8000 [==============================] - 1s 99us/step - loss: 0.3956 - acc: 0.8364\n",
      "Epoch 90/100\n",
      "8000/8000 [==============================] - 1s 119us/step - loss: 0.3952 - acc: 0.8369\n",
      "Epoch 91/100\n",
      "8000/8000 [==============================] - 1s 107us/step - loss: 0.3960 - acc: 0.8375\n",
      "Epoch 92/100\n",
      "8000/8000 [==============================] - 1s 104us/step - loss: 0.3947 - acc: 0.8357\n",
      "Epoch 93/100\n",
      "8000/8000 [==============================] - 1s 99us/step - loss: 0.3955 - acc: 0.8365\n",
      "Epoch 94/100\n",
      "8000/8000 [==============================] - 1s 92us/step - loss: 0.3948 - acc: 0.8371\n",
      "Epoch 95/100\n",
      "8000/8000 [==============================] - 1s 94us/step - loss: 0.3953 - acc: 0.8357\n",
      "Epoch 96/100\n",
      "8000/8000 [==============================] - 1s 94us/step - loss: 0.3951 - acc: 0.8361\n",
      "Epoch 97/100\n",
      "8000/8000 [==============================] - 1s 95us/step - loss: 0.3949 - acc: 0.8369\n",
      "Epoch 98/100\n",
      "8000/8000 [==============================] - 1s 93us/step - loss: 0.3949 - acc: 0.8377\n",
      "Epoch 99/100\n",
      "8000/8000 [==============================] - 1s 93us/step - loss: 0.3948 - acc: 0.8351\n",
      "Epoch 100/100\n",
      "8000/8000 [==============================] - 1s 94us/step - loss: 0.3957 - acc: 0.8359\n"
     ]
    },
    {
     "data": {
      "text/plain": [
       "<keras.callbacks.History at 0x1a1f518fdd8>"
      ]
     },
     "execution_count": 26,
     "metadata": {},
     "output_type": "execute_result"
    }
   ],
   "source": [
    "# Fit classifier to training set\n",
    "classifier.fit(X_train, y_train, batch_size = 10, nb_epoch = 100)"
   ]
  },
  {
   "cell_type": "code",
   "execution_count": 27,
   "metadata": {
    "collapsed": true
   },
   "outputs": [],
   "source": [
    "# We get training accuracy of ~ 86 percent\n",
    "\n",
    "# Make predictions on test data\n",
    "y_pred = classifier.predict(X_test)"
   ]
  },
  {
   "cell_type": "code",
   "execution_count": 28,
   "metadata": {},
   "outputs": [
    {
     "data": {
      "text/plain": [
       "array([[0.20546979],\n",
       "       [0.40266767],\n",
       "       [0.18675613],\n",
       "       ...,\n",
       "       [0.19515549],\n",
       "       [0.17795452],\n",
       "       [0.11841843]], dtype=float32)"
      ]
     },
     "execution_count": 28,
     "metadata": {},
     "output_type": "execute_result"
    }
   ],
   "source": [
    "y_pred"
   ]
  },
  {
   "cell_type": "code",
   "execution_count": 29,
   "metadata": {
    "collapsed": true
   },
   "outputs": [],
   "source": [
    "# Convert to 0,1 encoding\n",
    "y_pred = (y_pred > 0.5)"
   ]
  },
  {
   "cell_type": "code",
   "execution_count": 30,
   "metadata": {},
   "outputs": [
    {
     "data": {
      "text/plain": [
       "array([[False],\n",
       "       [False],\n",
       "       [False],\n",
       "       ...,\n",
       "       [False],\n",
       "       [False],\n",
       "       [False]])"
      ]
     },
     "execution_count": 30,
     "metadata": {},
     "output_type": "execute_result"
    }
   ],
   "source": [
    "y_pred"
   ]
  },
  {
   "cell_type": "code",
   "execution_count": 31,
   "metadata": {
    "collapsed": true
   },
   "outputs": [],
   "source": [
    "# Confusion Matrix\n",
    "from sklearn.metrics import confusion_matrix\n",
    "cm = confusion_matrix(y_test, y_pred)"
   ]
  },
  {
   "cell_type": "code",
   "execution_count": 32,
   "metadata": {},
   "outputs": [
    {
     "data": {
      "text/plain": [
       "array([[1543,   52],\n",
       "       [ 254,  151]], dtype=int64)"
      ]
     },
     "execution_count": 32,
     "metadata": {},
     "output_type": "execute_result"
    }
   ],
   "source": [
    "cm"
   ]
  },
  {
   "cell_type": "code",
   "execution_count": 33,
   "metadata": {},
   "outputs": [
    {
     "name": "stdout",
     "output_type": "stream",
     "text": [
      "0.847\n"
     ]
    }
   ],
   "source": [
    "acc = (cm[0,0] + cm[1,1])/2000\n",
    "print(acc)"
   ]
  },
  {
   "cell_type": "code",
   "execution_count": 34,
   "metadata": {
    "collapsed": true
   },
   "outputs": [],
   "source": [
    "# We get ~86% accuracy on test data!"
   ]
  },
  {
   "cell_type": "markdown",
   "metadata": {},
   "source": [
    "Part 3 - Make predictions and evaluate the model\n",
    "Use ANN to make prediction for a customer with the following attributes:\n",
    "- Geography: France\n",
    "- Credit Score: 600\n",
    "- Gender: Male\n",
    "- Age: 40 years old\n",
    "- Tenure: 3 years\n",
    "- Balance: 60000 USD\n",
    "- Number of Products 2\n",
    "- Does this customer have a credit card ? Yes\n",
    "- Is this customer an Active Member: Yes\n",
    "- Estimated Salary: 50000 USD"
   ]
  },
  {
   "cell_type": "code",
   "execution_count": 35,
   "metadata": {},
   "outputs": [
    {
     "data": {
      "text/plain": [
       "array([[False]])"
      ]
     },
     "execution_count": 35,
     "metadata": {},
     "output_type": "execute_result"
    }
   ],
   "source": [
    "# Create single row array for the given attributes\n",
    "new_customer = np.array([[0.0, 0, 600, 1, 40, 3, 60000, 2, 1, 1, 50000]]) # using single [] constructs vertical column array\n",
    "# Scale this record on the same scale used for training data\n",
    "new_customer_scaled = sc.transform(new_customer)\n",
    "new_customer_pred = classifier.predict(new_customer_scaled)\n",
    "new_customer_pred = (new_customer_pred > 0.5)\n",
    "new_customer_pred"
   ]
  },
  {
   "cell_type": "markdown",
   "metadata": {},
   "source": [
    "Part 4 - Improving the model"
   ]
  },
  {
   "cell_type": "code",
   "execution_count": 36,
   "metadata": {
    "collapsed": true
   },
   "outputs": [],
   "source": [
    "# Use KerasClassifier to wrap k-fold cross validation from scikit-learn into our keras model\n",
    "from keras.wrappers.scikit_learn import KerasClassifier"
   ]
  },
  {
   "cell_type": "code",
   "execution_count": 37,
   "metadata": {
    "collapsed": true
   },
   "outputs": [],
   "source": [
    "from sklearn.model_selection import cross_val_score"
   ]
  },
  {
   "cell_type": "code",
   "execution_count": 38,
   "metadata": {
    "collapsed": true
   },
   "outputs": [],
   "source": [
    "# Function for building ANN classifier - to be used in KerasClassifier parameter 'build_fn'\n",
    "def build_classifier():\n",
    "    classifier = Sequential()\n",
    "    # Add input layer and first hidden layer\n",
    "    classifier.add(Dense(output_dim = 6, init = \"uniform\", activation = \"relu\", input_dim = 11))\n",
    "    # Add second hidden layer\n",
    "    classifier.add(Dense(output_dim = 6, init = \"uniform\", activation = \"relu\"))\n",
    "    # Add output layer\n",
    "    classifier.add(Dense(output_dim = 1, init = \"uniform\", activation = \"sigmoid\"))\n",
    "    # Compile the ANN\n",
    "    classifier.compile(optimizer = \"adam\", loss = \"binary_crossentropy\", metrics = [\"accuracy\"])\n",
    "    return classifier"
   ]
  },
  {
   "cell_type": "code",
   "execution_count": 39,
   "metadata": {
    "collapsed": true
   },
   "outputs": [],
   "source": [
    "# Build a classifier using 10-fold cv and find accuracies\n",
    "classifier = KerasClassifier(build_fn = build_classifier, batch_size = 10, nb_epoch = 100)"
   ]
  },
  {
   "cell_type": "code",
   "execution_count": 46,
   "metadata": {},
   "outputs": [
    {
     "name": "stderr",
     "output_type": "stream",
     "text": [
      "C:\\Users\\Shrivatav\\Anaconda3\\lib\\site-packages\\ipykernel_launcher.py:5: UserWarning: Update your `Dense` call to the Keras 2 API: `Dense(activation=\"relu\", input_dim=11, units=6, kernel_initializer=\"uniform\")`\n",
      "  \"\"\"\n",
      "C:\\Users\\Shrivatav\\Anaconda3\\lib\\site-packages\\ipykernel_launcher.py:7: UserWarning: Update your `Dense` call to the Keras 2 API: `Dense(activation=\"relu\", units=6, kernel_initializer=\"uniform\")`\n",
      "  import sys\n",
      "C:\\Users\\Shrivatav\\Anaconda3\\lib\\site-packages\\ipykernel_launcher.py:9: UserWarning: Update your `Dense` call to the Keras 2 API: `Dense(activation=\"sigmoid\", units=1, kernel_initializer=\"uniform\")`\n",
      "  if __name__ == '__main__':\n"
     ]
    },
    {
     "name": "stdout",
     "output_type": "stream",
     "text": [
      "Epoch 1/1\n",
      "7200/7200 [==============================] - 2s 257us/step - loss: 0.4955 - acc: 0.7969\n",
      "800/800 [==============================] - 0s 377us/step\n",
      "Epoch 1/1\n",
      "7200/7200 [==============================] - 2s 280us/step - loss: 0.4984 - acc: 0.7957\n",
      "800/800 [==============================] - 0s 384us/step\n",
      "Epoch 1/1\n",
      "7200/7200 [==============================] - 2s 245us/step - loss: 0.4953 - acc: 0.7947\n",
      "800/800 [==============================] - 0s 358us/step\n",
      "Epoch 1/1\n",
      "7200/7200 [==============================] - 2s 296us/step - loss: 0.4884 - acc: 0.7974\n",
      "800/800 [==============================] - 1s 629us/step\n",
      "Epoch 1/1\n",
      "7200/7200 [==============================] - 3s 482us/step - loss: 0.4930 - acc: 0.7929\n",
      "800/800 [==============================] - 0s 611us/step\n",
      "Epoch 1/1\n",
      "7200/7200 [==============================] - 2s 277us/step - loss: 0.5097 - acc: 0.7932\n",
      "800/800 [==============================] - 0s 399us/step\n",
      "Epoch 1/1\n",
      "7200/7200 [==============================] - 2s 249us/step - loss: 0.5006 - acc: 0.7962\n",
      "800/800 [==============================] - 0s 407us/step\n",
      "Epoch 1/1\n",
      "7200/7200 [==============================] - 2s 267us/step - loss: 0.4905 - acc: 0.7954\n",
      "800/800 [==============================] - 0s 430us/step\n",
      "Epoch 1/1\n",
      "7200/7200 [==============================] - 2s 323us/step - loss: 0.4863 - acc: 0.7954\n",
      "800/800 [==============================] - 0s 494us/step\n",
      "Epoch 1/1\n",
      "7200/7200 [==============================] - 2s 287us/step - loss: 0.4878 - acc: 0.7961\n",
      "800/800 [==============================] - 0s 496us/step\n"
     ]
    }
   ],
   "source": [
    "accuracies = cross_val_score(estimator = classifier, X = X_train, y = y_train, cv = 10, n_jobs = 1) # n_jobs = -1 uses all CPUs"
   ]
  },
  {
   "cell_type": "code",
   "execution_count": 41,
   "metadata": {
    "collapsed": true
   },
   "outputs": [],
   "source": [
    "# Compute mean and variance of all accuracy values\n",
    "meann = accuracies.mean()\n",
    "variance = accuracies.std()"
   ]
  },
  {
   "cell_type": "code",
   "execution_count": 43,
   "metadata": {},
   "outputs": [
    {
     "data": {
      "text/plain": [
       "0.7966249968856574"
      ]
     },
     "execution_count": 43,
     "metadata": {},
     "output_type": "execute_result"
    }
   ],
   "source": [
    "meann"
   ]
  },
  {
   "cell_type": "code",
   "execution_count": 44,
   "metadata": {},
   "outputs": [
    {
     "data": {
      "text/plain": [
       "0.010444046518704023"
      ]
     },
     "execution_count": 44,
     "metadata": {},
     "output_type": "execute_result"
    }
   ],
   "source": [
    "variance"
   ]
  },
  {
   "cell_type": "code",
   "execution_count": 45,
   "metadata": {},
   "outputs": [
    {
     "data": {
      "text/plain": [
       "array([0.78625   , 0.79      , 0.805     , 0.7825    , 0.81625   ,\n",
       "       0.81      , 0.7875    , 0.79375   , 0.8       , 0.79499999])"
      ]
     },
     "execution_count": 45,
     "metadata": {},
     "output_type": "execute_result"
    }
   ],
   "source": [
    "accuracies"
   ]
  },
  {
   "cell_type": "code",
   "execution_count": 47,
   "metadata": {
    "collapsed": true
   },
   "outputs": [],
   "source": [
    "# Improving the model by using dropout regularization\n",
    "from keras.layers import Dropout"
   ]
  },
  {
   "cell_type": "code",
   "execution_count": 50,
   "metadata": {
    "collapsed": true
   },
   "outputs": [],
   "source": [
    "# Function for building ANN classifier - to be used in KerasClassifier parameter 'build_fn'\n",
    "# Using optimizer as a variable - enables us to use different values in GridSearch\n",
    "def build_classifier_modified(optimizer):\n",
    "    classifier = Sequential()\n",
    "    # Add input layer and first hidden layer\n",
    "    classifier.add(Dense(output_dim = 6, init = \"uniform\", activation = \"relu\", input_dim = 11))\n",
    "    # Add second hidden layer\n",
    "    classifier.add(Dense(output_dim = 6, init = \"uniform\", activation = \"relu\"))\n",
    "    # Add output layer\n",
    "    classifier.add(Dense(output_dim = 1, init = \"uniform\", activation = \"sigmoid\"))\n",
    "    # Compile the ANN\n",
    "    classifier.compile(optimizer = optimizer, loss = \"binary_crossentropy\", metrics = [\"accuracy\"])\n",
    "    return classifier"
   ]
  },
  {
   "cell_type": "code",
   "execution_count": null,
   "metadata": {
    "collapsed": true
   },
   "outputs": [],
   "source": [
    "# Adding input layer and first hidden layer with Dropout\n",
    "classifier.add(Dense(output_dim = 6, init = \"uniform\", activation = \"relu\", input_dim = 11))\n",
    "classifier.add(Dropout(p = 0.1))"
   ]
  },
  {
   "cell_type": "code",
   "execution_count": null,
   "metadata": {
    "collapsed": true
   },
   "outputs": [],
   "source": [
    "# Add second hidden layer\n",
    "classifier.add(Dense(output_dim = 6, init = \"uniform\", activation = \"relu\"))\n",
    "classifier.add(Dropout(p = 0.1))"
   ]
  },
  {
   "cell_type": "code",
   "execution_count": 48,
   "metadata": {
    "collapsed": true
   },
   "outputs": [],
   "source": [
    "# Tuning hyperparameters using GridSearch\n",
    "from sklearn.model_selection import GridSearchCV"
   ]
  },
  {
   "cell_type": "code",
   "execution_count": 51,
   "metadata": {
    "collapsed": true
   },
   "outputs": [],
   "source": [
    "classifier_new = KerasClassifier(build_fn = build_classifier_modified)"
   ]
  },
  {
   "cell_type": "code",
   "execution_count": 52,
   "metadata": {
    "collapsed": true
   },
   "outputs": [],
   "source": [
    "# Dictionary of hyperparameters\n",
    "parameters = {\n",
    "    \"batch_size\" : [25, 32],\n",
    "    \"nb_epoch\" : [100, 500],\n",
    "    \"optimizer\" : [\"adam\", \"rmsprop\"]\n",
    "}"
   ]
  },
  {
   "cell_type": "code",
   "execution_count": 53,
   "metadata": {
    "collapsed": true
   },
   "outputs": [],
   "source": [
    "grid_search = GridSearchCV(estimator = classifier_new, param_grid = parameters, scoring = \"accuracy\", cv = 10)"
   ]
  },
  {
   "cell_type": "code",
   "execution_count": 54,
   "metadata": {},
   "outputs": [
    {
     "name": "stderr",
     "output_type": "stream",
     "text": [
      "C:\\Users\\Shrivatav\\Anaconda3\\lib\\site-packages\\ipykernel_launcher.py:6: UserWarning: Update your `Dense` call to the Keras 2 API: `Dense(activation=\"relu\", input_dim=11, units=6, kernel_initializer=\"uniform\")`\n",
      "  \n",
      "C:\\Users\\Shrivatav\\Anaconda3\\lib\\site-packages\\ipykernel_launcher.py:8: UserWarning: Update your `Dense` call to the Keras 2 API: `Dense(activation=\"relu\", units=6, kernel_initializer=\"uniform\")`\n",
      "  \n",
      "C:\\Users\\Shrivatav\\Anaconda3\\lib\\site-packages\\ipykernel_launcher.py:10: UserWarning: Update your `Dense` call to the Keras 2 API: `Dense(activation=\"sigmoid\", units=1, kernel_initializer=\"uniform\")`\n",
      "  # Remove the CWD from sys.path while we load stuff.\n"
     ]
    },
    {
     "name": "stdout",
     "output_type": "stream",
     "text": [
      "Epoch 1/1\n",
      "7200/7200 [==============================] - 2s 326us/step - loss: 0.5495 - acc: 0.7965\n",
      "Epoch 1/1\n",
      "7200/7200 [==============================] - 2s 248us/step - loss: 0.5512 - acc: 0.7965\n",
      "Epoch 1/1\n",
      "7200/7200 [==============================] - 2s 230us/step - loss: 0.5587 - acc: 0.7936\n",
      "Epoch 1/1\n",
      "7200/7200 [==============================] - 2s 274us/step - loss: 0.5595 - acc: 0.7962\n",
      "Epoch 1/1\n",
      "7200/7200 [==============================] - 3s 367us/step - loss: 0.5755 - acc: 0.7933\n",
      "Epoch 1/1\n",
      "7200/7200 [==============================] - 2s 258us/step - loss: 0.5779 - acc: 0.7925\n",
      "Epoch 1/1\n",
      "7200/7200 [==============================] - 2s 275us/step - loss: 0.5760 - acc: 0.7953\n",
      "Epoch 1/1\n",
      "7200/7200 [==============================] - 2s 260us/step - loss: 0.6096 - acc: 0.7943\n",
      "Epoch 1/1\n",
      "7200/7200 [==============================] - 2s 328us/step - loss: 0.5599 - acc: 0.7951\n",
      "Epoch 1/1\n",
      "7200/7200 [==============================] - 2s 276us/step - loss: 0.6004 - acc: 0.7940\n",
      "Epoch 1/1\n",
      "7200/7200 [==============================] - 2s 261us/step - loss: 0.5763 - acc: 0.7968\n",
      "Epoch 1/1\n",
      "7200/7200 [==============================] - 2s 263us/step - loss: 0.5896 - acc: 0.7960\n",
      "Epoch 1/1\n",
      "7200/7200 [==============================] - 2s 270us/step - loss: 0.5823 - acc: 0.7950\n",
      "Epoch 1/1\n",
      "7200/7200 [==============================] - 3s 370us/step - loss: 0.6258 - acc: 0.7947\n",
      "Epoch 1/1\n",
      "7200/7200 [==============================] - 3s 348us/step - loss: 0.5691 - acc: 0.7937\n",
      "Epoch 1/1\n",
      "7200/7200 [==============================] - 3s 357us/step - loss: 0.5900 - acc: 0.7933\n",
      "Epoch 1/1\n",
      "7200/7200 [==============================] - 3s 349us/step - loss: 0.5923 - acc: 0.7942\n",
      "Epoch 1/1\n",
      "7200/7200 [==============================] - 3s 402us/step - loss: 0.5845 - acc: 0.7939\n",
      "Epoch 1/1\n",
      "7200/7200 [==============================] - 3s 379us/step - loss: 0.6051 - acc: 0.7931\n",
      "Epoch 1/1\n",
      "7200/7200 [==============================] - 2s 284us/step - loss: 0.5822 - acc: 0.7953\n",
      "Epoch 1/1\n",
      "7200/7200 [==============================] - 2s 309us/step - loss: 0.5496 - acc: 0.7967\n",
      "Epoch 1/1\n",
      "7200/7200 [==============================] - 2s 332us/step - loss: 0.5815 - acc: 0.7962\n",
      "Epoch 1/1\n",
      "7200/7200 [==============================] - 2s 290us/step - loss: 0.5639 - acc: 0.7944\n",
      "Epoch 1/1\n",
      "7200/7200 [==============================] - 2s 296us/step - loss: 0.5962 - acc: 0.7958\n",
      "Epoch 1/1\n",
      "7200/7200 [==============================] - 2s 299us/step - loss: 0.5584 - acc: 0.7914\n",
      "Epoch 1/1\n",
      "7200/7200 [==============================] - 2s 319us/step - loss: 0.5790 - acc: 0.7926\n",
      "Epoch 1/1\n",
      "7200/7200 [==============================] - 2s 311us/step - loss: 0.5457 - acc: 0.7969\n",
      "Epoch 1/1\n",
      "7200/7200 [==============================] - 3s 365us/step - loss: 0.5646 - acc: 0.7953\n",
      "Epoch 1/1\n",
      "7200/7200 [==============================] - 3s 383us/step - loss: 0.5711 - acc: 0.7939\n",
      "Epoch 1/1\n",
      "7200/7200 [==============================] - 3s 437us/step - loss: 0.5691 - acc: 0.7960\n",
      "Epoch 1/1\n",
      "7200/7200 [==============================] - 3s 416us/step - loss: 0.5817 - acc: 0.7969\n",
      "Epoch 1/1\n",
      "7200/7200 [==============================] - 3s 376us/step - loss: 0.5743 - acc: 0.7964\n",
      "Epoch 1/1\n",
      "7200/7200 [==============================] - 3s 414us/step - loss: 0.5728 - acc: 0.7953\n",
      "Epoch 1/1\n",
      "7200/7200 [==============================] - 3s 391us/step - loss: 0.5840 - acc: 0.7964\n",
      "Epoch 1/1\n",
      "7200/7200 [==============================] - 3s 359us/step - loss: 0.5795 - acc: 0.7937\n",
      "Epoch 1/1\n",
      "7200/7200 [==============================] - 3s 373us/step - loss: 0.5794 - acc: 0.7928\n",
      "Epoch 1/1\n",
      "7200/7200 [==============================] - 3s 398us/step - loss: 0.5869 - acc: 0.7967\n",
      "Epoch 1/1\n",
      "7200/7200 [==============================] - 3s 363us/step - loss: 0.5845 - acc: 0.7956\n",
      "Epoch 1/1\n",
      "7200/7200 [==============================] - 3s 376us/step - loss: 0.5867 - acc: 0.7946\n",
      "Epoch 1/1\n",
      "7200/7200 [==============================] - 3s 410us/step - loss: 0.6020 - acc: 0.7942\n",
      "Epoch 1/1\n",
      "7200/7200 [==============================] - 3s 391us/step - loss: 0.5898 - acc: 0.7951\n",
      "Epoch 1/1\n",
      "7200/7200 [==============================] - 3s 402us/step - loss: 0.5939 - acc: 0.7943\n",
      "Epoch 1/1\n",
      "7200/7200 [==============================] - 3s 392us/step - loss: 0.5850 - acc: 0.7932\n",
      "Epoch 1/1\n",
      "7200/7200 [==============================] - 3s 440us/step - loss: 0.5669 - acc: 0.7975\n",
      "Epoch 1/1\n",
      "7200/7200 [==============================] - 3s 412us/step - loss: 0.5977 - acc: 0.7901\n",
      "Epoch 1/1\n",
      "7200/7200 [==============================] - 3s 412us/step - loss: 0.5823 - acc: 0.7944\n",
      "Epoch 1/1\n",
      "7200/7200 [==============================] - 3s 438us/step - loss: 0.5860 - acc: 0.7960\n",
      "Epoch 1/1\n",
      "7200/7200 [==============================] - 3s 421us/step - loss: 0.5825 - acc: 0.7958\n",
      "Epoch 1/1\n",
      "7200/7200 [==============================] - 3s 442us/step - loss: 0.6131 - acc: 0.7932\n",
      "Epoch 1/1\n",
      "7200/7200 [==============================] - 3s 442us/step - loss: 0.5936 - acc: 0.7939\n",
      "Epoch 1/1\n",
      "7200/7200 [==============================] - 3s 439us/step - loss: 0.6097 - acc: 0.7971\n",
      "Epoch 1/1\n",
      "7200/7200 [==============================] - 3s 414us/step - loss: 0.5859 - acc: 0.7967\n",
      "Epoch 1/1\n",
      "7200/7200 [==============================] - 3s 405us/step - loss: 0.6093 - acc: 0.7947\n",
      "Epoch 1/1\n",
      "7200/7200 [==============================] - 3s 418us/step - loss: 0.6257 - acc: 0.7956\n",
      "Epoch 1/1\n",
      "7200/7200 [==============================] - 3s 467us/step - loss: 0.5939 - acc: 0.7925\n",
      "Epoch 1/1\n",
      "7200/7200 [==============================] - 3s 454us/step - loss: 0.5987 - acc: 0.7936\n",
      "Epoch 1/1\n",
      "7200/7200 [==============================] - 3s 442us/step - loss: 0.6253 - acc: 0.7958\n",
      "Epoch 1/1\n",
      "7200/7200 [==============================] - 4s 500us/step - loss: 0.6235 - acc: 0.7944\n",
      "Epoch 1/1\n",
      "7200/7200 [==============================] - 3s 439us/step - loss: 0.6196 - acc: 0.7947\n",
      "Epoch 1/1\n",
      "7200/7200 [==============================] - 4s 531us/step - loss: 0.5968 - acc: 0.7956\n",
      "Epoch 1/1\n",
      "7200/7200 [==============================] - 3s 467us/step - loss: 0.5740 - acc: 0.7964\n",
      "Epoch 1/1\n",
      "7200/7200 [==============================] - 4s 497us/step - loss: 0.5915 - acc: 0.7947\n",
      "Epoch 1/1\n",
      "7200/7200 [==============================] - 4s 509us/step - loss: 0.6199 - acc: 0.7937\n",
      "Epoch 1/1\n",
      "7200/7200 [==============================] - 4s 616us/step - loss: 0.5855 - acc: 0.7974\n",
      "Epoch 1/1\n",
      "7200/7200 [==============================] - 5s 630us/step - loss: 0.6644 - acc: 0.7914\n",
      "Epoch 1/1\n",
      "7200/7200 [==============================] - 4s 576us/step - loss: 0.6628 - acc: 0.7922\n",
      "Epoch 1/1\n",
      "7200/7200 [==============================] - 4s 563us/step - loss: 0.6018 - acc: 0.7949\n",
      "Epoch 1/1\n",
      "7200/7200 [==============================] - 4s 509us/step - loss: 0.5876 - acc: 0.7943\n",
      "Epoch 1/1\n",
      "7200/7200 [==============================] - 4s 515us/step - loss: 0.5746 - acc: 0.7944\n",
      "Epoch 1/1\n",
      "7200/7200 [==============================] - 4s 545us/step - loss: 0.5891 - acc: 0.7949\n",
      "Epoch 1/1\n",
      "7200/7200 [==============================] - 4s 513us/step - loss: 0.5932 - acc: 0.7968\n",
      "Epoch 1/1\n",
      "7200/7200 [==============================] - 4s 511us/step - loss: 0.6275 - acc: 0.7967\n",
      "Epoch 1/1\n",
      "7200/7200 [==============================] - 4s 545us/step - loss: 0.5873 - acc: 0.7953\n",
      "Epoch 1/1\n",
      "7200/7200 [==============================] - 4s 534us/step - loss: 0.5881 - acc: 0.7972\n",
      "Epoch 1/1\n",
      "7200/7200 [==============================] - 4s 575us/step - loss: 0.5932 - acc: 0.7937\n",
      "Epoch 1/1\n",
      "7200/7200 [==============================] - 4s 536us/step - loss: 0.5994 - acc: 0.7940\n",
      "Epoch 1/1\n",
      "7200/7200 [==============================] - 4s 534us/step - loss: 0.6234 - acc: 0.7946\n",
      "Epoch 1/1\n",
      "7200/7200 [==============================] - 4s 569us/step - loss: 0.5814 - acc: 0.7962\n",
      "Epoch 1/1\n",
      "7200/7200 [==============================] - 4s 545us/step - loss: 0.6026 - acc: 0.7946\n",
      "Epoch 1/1\n",
      "7200/7200 [==============================] - 4s 549us/step - loss: 0.6152 - acc: 0.7942\n",
      "Epoch 1/1\n",
      "8000/8000 [==============================] - 4s 554us/step - loss: 0.5338 - acc: 0.7958\n"
     ]
    }
   ],
   "source": [
    "grid_search = grid_search.fit(X_train, y_train)"
   ]
  },
  {
   "cell_type": "code",
   "execution_count": 55,
   "metadata": {
    "collapsed": true
   },
   "outputs": [],
   "source": [
    "best_parameters = grid_search.best_params_\n",
    "best_accuracy = grid_search.best_score_"
   ]
  },
  {
   "cell_type": "code",
   "execution_count": 56,
   "metadata": {},
   "outputs": [
    {
     "data": {
      "text/plain": [
       "0.796"
      ]
     },
     "execution_count": 56,
     "metadata": {},
     "output_type": "execute_result"
    }
   ],
   "source": [
    "best_accuracy"
   ]
  },
  {
   "cell_type": "code",
   "execution_count": 57,
   "metadata": {},
   "outputs": [
    {
     "data": {
      "text/plain": [
       "{'batch_size': 25, 'nb_epoch': 100, 'optimizer': 'adam'}"
      ]
     },
     "execution_count": 57,
     "metadata": {},
     "output_type": "execute_result"
    }
   ],
   "source": [
    "best_parameters"
   ]
  }
 ],
 "metadata": {
  "kernelspec": {
   "display_name": "Python 3",
   "language": "python",
   "name": "python3"
  },
  "language_info": {
   "codemirror_mode": {
    "name": "ipython",
    "version": 3
   },
   "file_extension": ".py",
   "mimetype": "text/x-python",
   "name": "python",
   "nbconvert_exporter": "python",
   "pygments_lexer": "ipython3",
   "version": "3.6.2"
  }
 },
 "nbformat": 4,
 "nbformat_minor": 2
}
